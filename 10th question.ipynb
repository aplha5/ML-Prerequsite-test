{
 "cells": [
  {
   "cell_type": "code",
   "execution_count": 5,
   "id": "326a6eea",
   "metadata": {},
   "outputs": [
    {
     "name": "stdout",
     "output_type": "stream",
     "text": [
      "The Column with highest standard deviation is :  c\n",
      " The Row with lowest mean is : 4\n"
     ]
    }
   ],
   "source": [
    "import numpy as np\n",
    "import pandas as pd\n",
    "matrix=np.random.uniform(1,2,size=(20,5))\n",
    "data_frame=pd.DataFrame(matrix,columns=[\"a\",\"b\",\"c\",\"d\",\"e\"])\n",
    "k=data_frame.std().idxmax()\n",
    "print (\"The Column with highest standard deviation is : \",k)\n",
    "l=data_frame.mean(axis=1).idxmin()\n",
    "print (\" The Row with lowest mean is :\",l)"
   ]
  },
  {
   "cell_type": "code",
   "execution_count": null,
   "id": "544b0445",
   "metadata": {},
   "outputs": [],
   "source": []
  }
 ],
 "metadata": {
  "kernelspec": {
   "display_name": "Python 3 (ipykernel)",
   "language": "python",
   "name": "python3"
  },
  "language_info": {
   "codemirror_mode": {
    "name": "ipython",
    "version": 3
   },
   "file_extension": ".py",
   "mimetype": "text/x-python",
   "name": "python",
   "nbconvert_exporter": "python",
   "pygments_lexer": "ipython3",
   "version": "3.11.5"
  }
 },
 "nbformat": 4,
 "nbformat_minor": 5
}
