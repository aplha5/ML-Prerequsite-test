{
 "cells": [
  {
   "cell_type": "code",
   "execution_count": 5,
   "id": "816df725",
   "metadata": {},
   "outputs": [
    {
     "name": "stdout",
     "output_type": "stream",
     "text": [
      "Number of rows in g with LT8 are : 14\n",
      "Standard deviation of 'f' for 'LT8': 0.47577169796282526\n",
      "Standard deviation of 'f' for 'GT8': 0.3264400233827788\n"
     ]
    }
   ],
   "source": [
    "import numpy as np\n",
    "import pandas as pd\n",
    "matrix=np.random.uniform(1,2,size=(20,5))\n",
    "data_frame=pd.DataFrame(matrix,columns=[\"a\",\"b\",\"c\",\"d\",\"e\"])\n",
    "'''k=data_frame.std().idxmax()\n",
    "print (\"The Column with highest standard deviation is : \",k)\n",
    "l=data_frame.mean(axis=1).idxmin()\n",
    "print (\" The Row with lowest mean is :\",l)'''\n",
    "data_frame[\"f\"]=data_frame[[\"a\",\"b\",\"c\",\"d\",\"e\"]].sum(axis=1)\n",
    "data_frame[\"g\"]=np.where(data_frame[\"f\"]<8, \"LT8\",\"GT8\")\n",
    "lt8=data_frame[data_frame[\"g\"]==\"LT8\"].shape[0]\n",
    "print (\"Number of rows in g with LT8 are :\",lt8)\n",
    "lt8_std=data_frame[data_frame[\"g\"]==\"LT8\"][\"f\"].std()\n",
    "gt8_std=data_frame[data_frame[\"g\"]==\"GT8\"][\"f\"].std()\n",
    "print(\"Standard deviation of 'f' for 'LT8':\", lt8_std)\n",
    "print(\"Standard deviation of 'f' for 'GT8':\", gt8_std)"
   ]
  }
 ],
 "metadata": {
  "kernelspec": {
   "display_name": "Python 3 (ipykernel)",
   "language": "python",
   "name": "python3"
  },
  "language_info": {
   "codemirror_mode": {
    "name": "ipython",
    "version": 3
   },
   "file_extension": ".py",
   "mimetype": "text/x-python",
   "name": "python",
   "nbconvert_exporter": "python",
   "pygments_lexer": "ipython3",
   "version": "3.11.5"
  }
 },
 "nbformat": 4,
 "nbformat_minor": 5
}
