{
 "cells": [
  {
   "cell_type": "code",
   "execution_count": 2,
   "id": "23aa3597",
   "metadata": {},
   "outputs": [
    {
     "name": "stdout",
     "output_type": "stream",
     "text": [
      "[5 7 9]\n",
      "[[17 19 21]\n",
      " [20 22 24]]\n"
     ]
    }
   ],
   "source": [
    "import numpy as np\n",
    "a=np.array([1,2,3])\n",
    "b=np.array([4,5,6])\n",
    "c=a+b\n",
    "print (c)\n",
    "d=np.array([7,8,9])\n",
    "e=np.array([[10,11,12],[13,14,15]])\n",
    "f=d+e\n",
    "print (f)"
   ]
  },
  {
   "cell_type": "markdown",
   "id": "07a3246c",
   "metadata": {},
   "source": [
    "Here if we observe a and b are of same dimensions so there the element wise operation has been done. But if we see in the second case there the dimensions of both d and e are not same but by using broadcasting numpy has expanded the d array to amtch with e and did the element wise operation. Numpy broadcasts when their dimensions are compatible."
   ]
  }
 ],
 "metadata": {
  "kernelspec": {
   "display_name": "Python 3 (ipykernel)",
   "language": "python",
   "name": "python3"
  },
  "language_info": {
   "codemirror_mode": {
    "name": "ipython",
    "version": 3
   },
   "file_extension": ".py",
   "mimetype": "text/x-python",
   "name": "python",
   "nbconvert_exporter": "python",
   "pygments_lexer": "ipython3",
   "version": "3.11.5"
  }
 },
 "nbformat": 4,
 "nbformat_minor": 5
}
