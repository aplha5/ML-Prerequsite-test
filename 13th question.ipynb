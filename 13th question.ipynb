{
 "cells": [
  {
   "cell_type": "code",
   "execution_count": 5,
   "id": "892c987e",
   "metadata": {},
   "outputs": [
    {
     "name": "stdout",
     "output_type": "stream",
     "text": [
      "1 2 3 4\n",
      "true and the number is: 0\n"
     ]
    }
   ],
   "source": [
    "import numpy as np\n",
    "arr=np.array(input().split())\n",
    "min=arr[0]\n",
    "ind=0\n",
    "for i in range(1,len(arr)):\n",
    "    if arr[i]<min:\n",
    "        min=arr[i]\n",
    "        ind=i\n",
    "\n",
    "if ind==np.argmin(arr):\n",
    "    print (\"true and the number is:\",ind)\n",
    "else :\n",
    "    print (\"false\")"
   ]
  },
  {
   "cell_type": "code",
   "execution_count": null,
   "id": "10012c75",
   "metadata": {},
   "outputs": [],
   "source": []
  }
 ],
 "metadata": {
  "kernelspec": {
   "display_name": "Python 3 (ipykernel)",
   "language": "python",
   "name": "python3"
  },
  "language_info": {
   "codemirror_mode": {
    "name": "ipython",
    "version": 3
   },
   "file_extension": ".py",
   "mimetype": "text/x-python",
   "name": "python",
   "nbconvert_exporter": "python",
   "pygments_lexer": "ipython3",
   "version": "3.11.5"
  }
 },
 "nbformat": 4,
 "nbformat_minor": 5
}
