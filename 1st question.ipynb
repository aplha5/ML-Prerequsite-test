{
 "cells": [
  {
   "cell_type": "markdown",
   "id": "21232ed7",
   "metadata": {},
   "source": [
    "Given two matrices of dimensions (n,k) i.e, n rows and k columns and (k,m) i.e, k rows and m columns. Here after doing the matrix multiplication the dimensions of the resulting matrix will be (n,m). We find the elements in the resulting matrix by doing the dot product of the correspoding row of the first matrix and column of the second matrix which means that for every element in the resulting matrix we are doing k multiplications(number of colums of 1st matrix or number of rows of the second matrix ) and to add them k-1 additions(to add n numbers we use addition n-1 times). The total number of elements in the resulting matrix are n * m so therefore the total number of multiplications used for matrix multplication are n * m * k and the total number of additions are n * m * (k-1)"
   ]
  }
 ],
 "metadata": {
  "kernelspec": {
   "display_name": "Python 3 (ipykernel)",
   "language": "python",
   "name": "python3"
  },
  "language_info": {
   "codemirror_mode": {
    "name": "ipython",
    "version": 3
   },
   "file_extension": ".py",
   "mimetype": "text/x-python",
   "name": "python",
   "nbconvert_exporter": "python",
   "pygments_lexer": "ipython3",
   "version": "3.11.5"
  }
 },
 "nbformat": 4,
 "nbformat_minor": 5
}
