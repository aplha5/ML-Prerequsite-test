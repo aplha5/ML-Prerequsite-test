{
 "cells": [
  {
   "cell_type": "code",
   "execution_count": null,
   "id": "df494118",
   "metadata": {},
   "outputs": [],
   "source": [
    "import numpy as np\n",
    "import timeit\n",
    "n = int (input())\n",
    "k=int (input())\n",
    "m=int(input())\n",
    "a=[[0 for _ in range(k)]for _ in range(n)]\n",
    "b=[[0 for _ in range(m)]for _ in range(k)]\n",
    "for i in range(n):\n",
    "    for j in range(k):\n",
    "        a[i][j]=int(input())\n",
    "for z in range(k):\n",
    "    for p in range(m):\n",
    "        b[z][p]=int(input())\n",
    "def listoflist(a,b):\n",
    "    c=[[0 for _ in range(len(b[0]))]for _ in range(len(a))]\n",
    "    for i in range(len(a)):\n",
    "        for j in range(len(b[0])):\n",
    "            for k in range(len(b)):\n",
    "                c[i][j]+=a[i][k]*b[k][j]\n",
    "    return c;\n",
    "def use_numPy(a,b):\n",
    "    return np.dot(a,b);\n",
    "s_l=timeit.default_timer()\n",
    "c=listoflist(a,b)\n",
    "e_l=timeit.default_timer()\n",
    "s_n=timeit.default_timer()\n",
    "d=use_numPy(a,b)\n",
    "e_n=timeit.default_timer()\n",
    "print (c)\n",
    "print(d)\n",
    "if e_l-s_l>e_n-s_n:\n",
    "    print (\"listoflist multipclication is faster\");\n",
    "elif e_l-s_l<e_n-s_n :\n",
    "    print (\"numpy if faster\")\n",
    "else :\n",
    "    print (\"both are equal\")\n",
    "    "
   ]
  },
  {
   "cell_type": "markdown",
   "id": "2b94ccf9",
   "metadata": {},
   "source": [
    "The numpy multiplication is faster than the list of list multiplications approach becasue numpy uses the optimised algorithms and libraries and also it vectorization which avoids the overhead of loops and also it used fixed size data types so numpy multiplication is faster"
   ]
  }
 ],
 "metadata": {
  "kernelspec": {
   "display_name": "Python 3 (ipykernel)",
   "language": "python",
   "name": "python3"
  },
  "language_info": {
   "codemirror_mode": {
    "name": "ipython",
    "version": 3
   },
   "file_extension": ".py",
   "mimetype": "text/x-python",
   "name": "python",
   "nbconvert_exporter": "python",
   "pygments_lexer": "ipython3",
   "version": "3.11.5"
  }
 },
 "nbformat": 4,
 "nbformat_minor": 5
}
