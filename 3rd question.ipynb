{
 "cells": [
  {
   "cell_type": "code",
   "execution_count": 3,
   "id": "853c2119",
   "metadata": {},
   "outputs": [
    {
     "name": "stdout",
     "output_type": "stream",
     "text": [
      "4 1 2 3\n",
      "Native Median: 2.5\n",
      "Median using sorting: 2.5\n"
     ]
    }
   ],
   "source": [
    "import numpy as np\n",
    "def native_median(arr):\n",
    "    n=len(arr)\n",
    "    for i in range(n//2+1):\n",
    "        maxi=i\n",
    "        for j in range(i+1,n):\n",
    "            if(arr[j]>arr[maxi]):\n",
    "                maxi=j\n",
    "        arr[i],arr[maxi]=arr[maxi],arr[i]\n",
    "    if n%2==0:\n",
    "        return (arr[n//2]+arr[n//2-1])/2\n",
    "    else:\n",
    "        return arr[n//2]\n",
    "def meadian_usingsorting(arr):\n",
    "    arr.sort()\n",
    "    n=len(arr)\n",
    "    if(n%2==0):\n",
    "        return (arr[n//2]+arr[n//2-1])/2\n",
    "    else :\n",
    "        return arr[n//2]\n",
    "arr = input().split()\n",
    "arr=np.array(arr).astype(float)\n",
    "median1= native_median(arr)\n",
    "median2=meadian_usingsorting(arr)\n",
    "print(\"Native Median:\", median1)\n",
    "print(\"Median using sorting:\", median2)\n",
    "\n"
   ]
  },
  {
   "cell_type": "markdown",
   "id": "a205c69d",
   "metadata": {},
   "source": [
    "In the above native meadian method we used the method of calculating the n/2th highest elelment and it takes a time complexity of (n/2)(n) that is of O(n^2). But in the second case we used sorting technique and the time complexity of sorting is O(nlogn) so the time complexity of meadian_usingsorting methof is O(nlogn)"
   ]
  }
 ],
 "metadata": {
  "kernelspec": {
   "display_name": "Python 3 (ipykernel)",
   "language": "python",
   "name": "python3"
  },
  "language_info": {
   "codemirror_mode": {
    "name": "ipython",
    "version": 3
   },
   "file_extension": ".py",
   "mimetype": "text/x-python",
   "name": "python",
   "nbconvert_exporter": "python",
   "pygments_lexer": "ipython3",
   "version": "3.11.5"
  }
 },
 "nbformat": 4,
 "nbformat_minor": 5
}
