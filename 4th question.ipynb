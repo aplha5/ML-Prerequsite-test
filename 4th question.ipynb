{
 "cells": [
  {
   "cell_type": "markdown",
   "id": "073e2638",
   "metadata": {},
   "source": [
    "Given equation is  f(x, y) = x^2*y + y^3 sin(x) \\.\n",
    "\n",
    "Partial derivatives of the equation are:\n",
    "\n",
    "\\begin{align}\n",
    "    \\frac{\\partial f}{\\partial x} &= 2xy + y^3cos(x) \\\\\n",
    "    \\frac{\\partial f}{\\partial y} &= x^2 + 3y^2 \\sin(x)\n",
    "\\end{align}\n",
    "\n",
    "The gradient is written as: \n",
    "\\begin{equation}\n",
    "    \\nabla f(x, y) = \\begin{bmatrix}\n",
    "        \\frac{\\partial f}{\\partial x} \\\\\n",
    "        \\frac{\\partial f}{\\partial y}\n",
    "    \\end{bmatrix}\n",
    "\\end{equation}\n",
    "\n",
    "Gradient:\n",
    "\n",
    "\\begin{equation}\n",
    "    \\nabla f(x, y) = \\begin{bmatrix}\n",
    "        2xy + y^3 \\cos(x) \\\\\n",
    "       x^2+ 3y^2 \\sin(x)\n",
    "    \\end{bmatrix}\n",
    "\\end{equation}"
   ]
  },
  {
   "cell_type": "markdown",
   "id": "19e128eb",
   "metadata": {},
   "source": [
    "differentiation of x^n is n*(x^(n-1)) and differentiation of sin(x) is cos(x)"
   ]
  }
 ],
 "metadata": {
  "kernelspec": {
   "display_name": "Python 3 (ipykernel)",
   "language": "python",
   "name": "python3"
  },
  "language_info": {
   "codemirror_mode": {
    "name": "ipython",
    "version": 3
   },
   "file_extension": ".py",
   "mimetype": "text/x-python",
   "name": "python",
   "nbconvert_exporter": "python",
   "pygments_lexer": "ipython3",
   "version": "3.11.5"
  }
 },
 "nbformat": 4,
 "nbformat_minor": 5
}
