{
 "cells": [
  {
   "cell_type": "code",
   "execution_count": 4,
   "id": "e5c6ecd2",
   "metadata": {},
   "outputs": [
    {
     "name": "stdout",
     "output_type": "stream",
     "text": [
      "2 \n",
      "1.5\n",
      "Analytical Gradient: 4.5955043\n"
     ]
    }
   ],
   "source": [
    "import jax\n",
    "import jax.numpy as jnp\n",
    "from jax import grad\n",
    "def func(x,y):\n",
    "    return x**2*y+y**3*(jnp.sin(x))\n",
    "gradient=grad(func)\n",
    "x=jnp.array(float(input()))\n",
    "y=jnp.array(float(input()))\n",
    "analytical_gradient=gradient(x,y)\n",
    "print (\"Analytical Gradient:\",analytical_gradient)\n",
    "    "
   ]
  },
  {
   "cell_type": "code",
   "execution_count": null,
   "id": "15c9502e",
   "metadata": {},
   "outputs": [],
   "source": []
  }
 ],
 "metadata": {
  "kernelspec": {
   "display_name": "Python 3 (ipykernel)",
   "language": "python",
   "name": "python3"
  },
  "language_info": {
   "codemirror_mode": {
    "name": "ipython",
    "version": 3
   },
   "file_extension": ".py",
   "mimetype": "text/x-python",
   "name": "python",
   "nbconvert_exporter": "python",
   "pygments_lexer": "ipython3",
   "version": "3.11.5"
  }
 },
 "nbformat": 4,
 "nbformat_minor": 5
}
