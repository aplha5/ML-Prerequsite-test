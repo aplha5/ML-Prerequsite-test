{
 "cells": [
  {
   "cell_type": "code",
   "execution_count": 4,
   "id": "ab28adcb",
   "metadata": {},
   "outputs": [
    {
     "name": "stdout",
     "output_type": "stream",
     "text": [
      "Gradient : Matrix([[2*x*y + y**3*cos(x)], [x**2 + 3*y**2*sin(x)]])\n"
     ]
    }
   ],
   "source": [
    "import sympy as sp\n",
    "x,y=sp.symbols('x,y')\n",
    "func=x**2*y+y**3*(sp.sin(x))\n",
    "gradient=sp.Matrix([func.diff(x),func.diff(y)])\n",
    "print (\"Gradient :\",gradient)"
   ]
  },
  {
   "cell_type": "code",
   "execution_count": null,
   "id": "2f6fae12",
   "metadata": {},
   "outputs": [],
   "source": []
  }
 ],
 "metadata": {
  "kernelspec": {
   "display_name": "Python 3 (ipykernel)",
   "language": "python",
   "name": "python3"
  },
  "language_info": {
   "codemirror_mode": {
    "name": "ipython",
    "version": 3
   },
   "file_extension": ".py",
   "mimetype": "text/x-python",
   "name": "python",
   "nbconvert_exporter": "python",
   "pygments_lexer": "ipython3",
   "version": "3.11.5"
  }
 },
 "nbformat": 4,
 "nbformat_minor": 5
}
