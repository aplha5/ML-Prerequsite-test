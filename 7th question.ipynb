{
 "cells": [
  {
   "cell_type": "code",
   "execution_count": 3,
   "id": "73c69d7d",
   "metadata": {},
   "outputs": [
    {
     "name": "stdout",
     "output_type": "stream",
     "text": [
      "Enter year (or 0 to end):2022\n",
      "Enter branch (or done to end):cse\n",
      "Enter roll number (or 0 to end):21110176\n",
      "Enter name:keerthi\n",
      "Enter subject(or done to end):phy\n",
      "Enter marks :21\n",
      "Enter subject(or done to end):maths\n",
      "Enter marks :22\n",
      "Enter subject(or done to end):done\n",
      "Enter roll number (or 0 to end):2110097\n",
      "Enter name:pardheev\n",
      "Enter subject(or done to end):mat \n",
      "Enter marks :22\n",
      "Enter subject(or done to end):phy\n",
      "Enter marks :22\n",
      "Enter subject(or done to end):done\n",
      "Enter roll number (or 0 to end):0\n",
      "Enter branch (or done to end):done\n",
      "Enter year (or 0 to end):0\n",
      "{2022: {'cse': [{'Roll Number': 21110176, 'Name': 'keerthi', 'Marks': {'phy': 21, 'maths': 22}}, {'Roll Number': 2110097, 'Name': 'pardheev', 'Marks': {'mat ': 22, 'phy': 22}}]}}\n"
     ]
    }
   ],
   "source": [
    "record_of_students={}\n",
    "while True:\n",
    "    year=int(input(\"Enter year (or 0 to end):\"))\n",
    "    if year==0:\n",
    "        break\n",
    "    record_of_students[year]={}\n",
    "    while True:\n",
    "        branch=input(\"Enter branch (or done to end):\")\n",
    "        if branch=='done':\n",
    "            break\n",
    "        record_of_students[year][branch]=[]\n",
    "        while True:\n",
    "            rollnumber=int(input(\"Enter roll number (or 0 to end):\"))\n",
    "            if rollnumber==0:\n",
    "                break\n",
    "            name=input(\"Enter name:\")\n",
    "            marks={}\n",
    "            while True:\n",
    "                subject=input(\"Enter subject(or done to end):\")\n",
    "                if subject=='done':\n",
    "                    break\n",
    "                marks[subject]=int(input(\"Enter marks :\"))\n",
    "            record_of_students[year][branch].append({\n",
    "        \"Roll Number\": rollnumber,\n",
    "        \"Name\": name,\n",
    "        \"Marks\": marks\n",
    "      })\n",
    "print (record_of_students)            \n",
    "        "
   ]
  },
  {
   "cell_type": "code",
   "execution_count": null,
   "id": "411ef0a9",
   "metadata": {},
   "outputs": [],
   "source": []
  }
 ],
 "metadata": {
  "kernelspec": {
   "display_name": "Python 3 (ipykernel)",
   "language": "python",
   "name": "python3"
  },
  "language_info": {
   "codemirror_mode": {
    "name": "ipython",
    "version": 3
   },
   "file_extension": ".py",
   "mimetype": "text/x-python",
   "name": "python",
   "nbconvert_exporter": "python",
   "pygments_lexer": "ipython3",
   "version": "3.11.5"
  }
 },
 "nbformat": 4,
 "nbformat_minor": 5
}
