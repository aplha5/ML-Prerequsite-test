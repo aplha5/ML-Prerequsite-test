{
 "cells": [
  {
   "cell_type": "code",
   "execution_count": 9,
   "id": "039b95d3",
   "metadata": {},
   "outputs": [
    {
     "name": "stdout",
     "output_type": "stream",
     "text": [
      "Enter year (or 0 to end):2022\n",
      "Enter branch (or done to end):cse\n",
      "Enter roll number (or 0 to end):21110176\n",
      "Enter name:keerthi\n",
      "Enter subject(or done to end):phy\n",
      "Enter marks :21\n",
      "Enter subject(or done to end):41\n",
      "Enter marks :21\n",
      "Enter subject(or done to end):done\n",
      "Enter roll number (or 0 to end):0\n",
      "Enter branch (or done to end):done\n",
      "Enter year (or 0 to end):0\n",
      "2022\n",
      "  - Branch: cse\n",
      "    - Roll Number: 21110176, Name: keerthi\n",
      "      - Marks: {'phy': 21, '41': 21}\n"
     ]
    }
   ],
   "source": [
    "class Student:\n",
    "    def __init__(self,rollnumber,name):\n",
    "        self.roll_number=rollnumber\n",
    "        self.name=name;\n",
    "        self.marks={}\n",
    "    def add_marks(self,subject,marks):\n",
    "        self.marks[subject]=marks\n",
    "class Branch:\n",
    "    def __init__(self,name):\n",
    "        self.name=name\n",
    "        self.students=[]\n",
    "    def add_students(self,student):\n",
    "        self.students.append(student)\n",
    "class Year:\n",
    "    def __init__(self,year):\n",
    "        self.year=year\n",
    "        self.branches=[]\n",
    "    def add_branches(self,branch):\n",
    "        self.branches.append(branch)\n",
    "record_of_students=[]\n",
    "while True:\n",
    "    year=int(input(\"Enter year (or 0 to end):\"))\n",
    "    if year==0:\n",
    "        break\n",
    "    year_obj=Year(year)\n",
    "    while True:\n",
    "        branch=input(\"Enter branch (or done to end):\")\n",
    "        if branch=='done':\n",
    "            break\n",
    "        branch_obj=Branch(branch)\n",
    "        while True:\n",
    "            rollnumber=int(input(\"Enter roll number (or 0 to end):\"))\n",
    "            if rollnumber==0:\n",
    "                break\n",
    "            name=input(\"Enter name:\")\n",
    "            student_obj=Student(rollnumber,name)\n",
    "            while True:\n",
    "                subject=input(\"Enter subject(or done to end):\")\n",
    "                if subject=='done':\n",
    "                    break\n",
    "                marks=int(input(\"Enter marks :\"))\n",
    "                student_obj.add_marks(subject,marks)\n",
    "        branch_obj.add_students(student_obj)\n",
    "    year_obj.add_branches(branch_obj)\n",
    "    record_of_students.append(year_obj)\n",
    "for year_obj in record_of_students:\n",
    "    print(year_obj.year)\n",
    "    for branch_obj in year_obj.branches:\n",
    "        print(f\"  - Branch: {branch_obj.name}\")\n",
    "        for student_obj in branch_obj.students:\n",
    "            print(f\"    - Roll Number: {student_obj.roll_number}, Name: {student_obj.name}\")\n",
    "            print(f\"      - Marks: {student_obj.marks}\")            \n",
    "        "
   ]
  },
  {
   "cell_type": "code",
   "execution_count": null,
   "id": "f92355a4",
   "metadata": {},
   "outputs": [],
   "source": []
  }
 ],
 "metadata": {
  "kernelspec": {
   "display_name": "Python 3 (ipykernel)",
   "language": "python",
   "name": "python3"
  },
  "language_info": {
   "codemirror_mode": {
    "name": "ipython",
    "version": 3
   },
   "file_extension": ".py",
   "mimetype": "text/x-python",
   "name": "python",
   "nbconvert_exporter": "python",
   "pygments_lexer": "ipython3",
   "version": "3.11.5"
  }
 },
 "nbformat": 4,
 "nbformat_minor": 5
}
